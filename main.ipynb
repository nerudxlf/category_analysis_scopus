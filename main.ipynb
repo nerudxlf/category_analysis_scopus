{
  "nbformat": 4,
  "nbformat_minor": 0,
  "metadata": {
    "colab": {
      "name": "main.ipynb",
      "provenance": [],
      "authorship_tag": "ABX9TyN5mdTnUrx8aIoZ/Y1MeSQv",
      "include_colab_link": true
    },
    "kernelspec": {
      "name": "python3",
      "display_name": "Python 3"
    }
  },
  "cells": [
    {
      "cell_type": "markdown",
      "metadata": {
        "id": "view-in-github",
        "colab_type": "text"
      },
      "source": [
        "<a href=\"https://colab.research.google.com/github/nerudxlf/category_analysis_scopus/blob/main/main.ipynb\" target=\"_parent\"><img src=\"https://colab.research.google.com/assets/colab-badge.svg\" alt=\"Open In Colab\"/></a>"
      ]
    },
    {
      "cell_type": "code",
      "metadata": {
        "id": "aTAwwX0mCL9h"
      },
      "source": [
        "import math\r\n",
        "\r\n",
        "import pandas as pd\r\n",
        "\r\n",
        "from google.colab import files\r\n",
        "\r\n",
        "files.upload()"
      ],
      "execution_count": null,
      "outputs": []
    },
    {
      "cell_type": "code",
      "metadata": {
        "id": "Jlrde3sACXn7"
      },
      "source": [
        "scimagojr_df_title_and_categories = pd.read_csv(\"scimagojr_2019.csv\", sep=\";\").filter(items=[\"Title\", \"Categories\"])\r\n",
        "scopus_df_title_citations = pd.read_csv(\"scopus2016-2020.csv\").filter(items=[\"Название источника\", \"Цитирования\"])\r\n",
        "title_list = scimagojr_df_title_and_categories['Title'].to_list()\r\n",
        "categories_list = scimagojr_df_title_and_categories['Categories'].to_list()\r\n",
        "oecd_scopus = pd.read_excel(\"scopus_oecd.xlsx\")\r\n",
        "new_categories_list = []\r\n",
        "list_all_categories = []\r\n",
        "\r\n",
        "for item in categories_list:\r\n",
        "  item = item.replace(\" (Q1)\", \"\")\r\n",
        "  item = item.replace(\" (Q2)\", \"\")\r\n",
        "  item = item.replace(\" (Q3)\", \"\")\r\n",
        "  item = item.replace(\" (Q4)\", \"\")\r\n",
        "  new_categories_list.append(item)\r\n",
        "dict_title_categories = dict(zip(title_list, new_categories_list))\r\n",
        "\r\n",
        "for key, item in dict_title_categories.items():\r\n",
        "  item = item.split(\"; \")\r\n",
        "  dict_title_categories[key] = item\r\n",
        "\r\n",
        "title_list_from_dict = dict_title_categories.keys()\r\n",
        "categories_list_form_dict = dict_title_categories.values()\r\n",
        "\r\n",
        "new_scimagojr_df_title_and_categories = pd.DataFrame(\r\n",
        "  {\"Title\": title_list_from_dict, \"Categories\": categories_list_form_dict})\r\n",
        "title_and_categories_and_citations_df = pd.merge(left=new_scimagojr_df_title_and_categories,\r\n",
        "                                                 right=scopus_df_title_citations, left_on=\"Title\",\r\n",
        "                                                 right_on=\"Название источника\")\r\n",
        "list_categories_from_df = title_and_categories_and_citations_df[\"Categories\"].to_list()\r\n",
        "list_citation_form_df = title_and_categories_and_citations_df[\"Цитирования\"].to_list()\r\n",
        "\r\n",
        "for elem_list in list_categories_from_df:\r\n",
        "  for i in elem_list:\r\n",
        "    list_all_categories.append(i)\r\n",
        "list_all_categories_set = list(set(list_all_categories))\r\n",
        "dict_all_categories = dict.fromkeys(list_all_categories_set, 0)\r\n",
        "\r\n",
        "for i in range(len(list_citation_form_df)):\r\n",
        "  for key, item in dict_all_categories.items():\r\n",
        "    if list_categories_from_df[i].count(key):\r\n",
        "      if math.isnan(list_citation_form_df[i]):\r\n",
        "        list_citation_form_df[i] = 0\r\n",
        "      dict_all_categories[key] += list_citation_form_df[i]\r\n",
        "result_list_categories = dict_all_categories.keys()\r\n",
        "result_list_citaions = dict_all_categories.values()\r\n",
        "\r\n",
        "result_df = pd.DataFrame({\"Категория\": result_list_categories, \"Цитирования\": result_list_citaions})\r\n",
        "result_df = pd.merge(left=result_df, right=oecd_scopus, left_on=\"Категория\", right_on=\"направление\")\r\n",
        "result_df.drop(\"Категория\", axis=1, inplace=True)\r\n",
        "result_df.to_excel(\"result.xlsx\", index=False)"
      ],
      "execution_count": null,
      "outputs": []
    }
  ]
}