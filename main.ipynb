{
  "nbformat": 4,
  "nbformat_minor": 0,
  "metadata": {
    "colab": {
      "name": "main.ipynb",
      "provenance": [],
      "authorship_tag": "ABX9TyMthGdBc4H/SwdZOPAo1tiW",
      "include_colab_link": true
    },
    "kernelspec": {
      "name": "python3",
      "display_name": "Python 3"
    }
  },
  "cells": [
    {
      "cell_type": "markdown",
      "metadata": {
        "id": "view-in-github",
        "colab_type": "text"
      },
      "source": [
        "<a href=\"https://colab.research.google.com/github/nerudxlf/category_analysis_scopus/blob/main/main.ipynb\" target=\"_parent\"><img src=\"https://colab.research.google.com/assets/colab-badge.svg\" alt=\"Open In Colab\"/></a>"
      ]
    },
    {
      "cell_type": "code",
      "metadata": {
        "id": "aTAwwX0mCL9h"
      },
      "source": [
        "import math\n",
        "\n",
        "import pandas as pd\n",
        "\n",
        "from google.colab import files\n",
        "\n",
        "files.upload()"
      ],
      "execution_count": null,
      "outputs": []
    },
    {
      "cell_type": "code",
      "metadata": {
        "id": "Jlrde3sACXn7"
      },
      "source": [
        "scimagojr_df_title_and_categories = pd.read_csv(\"scimagojr_2019.csv\", sep=\";\").filter(items=[\"Title\", \"Categories\"])\n",
        "scopus_df_title_citations = pd.read_csv(\"scopus2016-2020.csv\").filter(items=[\"Название источника\", \"Цитирования\"])\n",
        "title_list = scimagojr_df_title_and_categories['Title'].to_list()\n",
        "categories_list = scimagojr_df_title_and_categories['Categories'].to_list()\n",
        "oecd_scopus = pd.read_excel(\"scopus_oecd.xlsx\")\n",
        "new_categories_list = []\n",
        "list_all_categories = []\n",
        "\n",
        "for item in categories_list:\n",
        "  #  добавляется название категории определенного квартиля\n",
        "  item = item.replace(\" (Q1)\", \"\")\n",
        "  item = item.replace(\" (Q2)\", \"\")\n",
        "  item = item.replace(\" (Q3)\", \"\")\n",
        "  item = item.replace(\" (Q4)\", \"\")\n",
        "  new_categories_list.append(item)\n",
        "dict_title_categories = dict(zip(title_list, new_categories_list))\n",
        "\n",
        "for key, item in dict_title_categories.items():\n",
        "  item = item.split(\"; \")\n",
        "  dict_title_categories[key] = item\n",
        "\n",
        "title_list_from_dict = dict_title_categories.keys()\n",
        "categories_list_form_dict = dict_title_categories.values()\n",
        "\n",
        "new_scimagojr_df_title_and_categories = pd.DataFrame(\n",
        "  {\"Title\": title_list_from_dict, \"Categories\": categories_list_form_dict})\n",
        "title_and_categories_and_citations_df = pd.merge(left=new_scimagojr_df_title_and_categories,\n",
        "                                                 right=scopus_df_title_citations, left_on=\"Title\",\n",
        "                                                 right_on=\"Название источника\")\n",
        "list_categories_from_df = title_and_categories_and_citations_df[\"Categories\"].to_list()\n",
        "list_citation_form_df = title_and_categories_and_citations_df[\"Цитирования\"].to_list()\n",
        "\n",
        "for elem_list in list_categories_from_df:\n",
        "  #  формируется список всех категорий\n",
        "  for i in elem_list:\n",
        "    list_all_categories.append(i)\n",
        "list_all_categories_set = list(set(list_all_categories))\n",
        "dict_all_categories = dict.fromkeys(list_all_categories_set, 0)\n",
        "\n",
        "for i in range(len(list_citation_form_df)):\n",
        "  #  считается количество цитирований\n",
        "  for key, item in dict_all_categories.items():\n",
        "    if list_categories_from_df[i].count(key):\n",
        "      if math.isnan(list_citation_form_df[i]):\n",
        "        list_citation_form_df[i] = 0\n",
        "      dict_all_categories[key] += list_citation_form_df[i]\n",
        "result_list_categories = dict_all_categories.keys()\n",
        "result_list_citaions = dict_all_categories.values()\n",
        "\n",
        "result_df = pd.DataFrame({\"Категория\": result_list_categories, \"Цитирования\": result_list_citaions})\n",
        "result_df = pd.merge(left=result_df, right=oecd_scopus, left_on=\"Категория\", right_on=\"направление\")\n",
        "result_df.drop(\"Категория\", axis=1, inplace=True)\n",
        "result_df.to_excel(\"result.xlsx\", index=False)"
      ],
      "execution_count": null,
      "outputs": []
    }
  ]
}